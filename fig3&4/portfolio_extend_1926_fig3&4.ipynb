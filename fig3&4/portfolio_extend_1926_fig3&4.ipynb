{
 "cells": [
  {
   "cell_type": "code",
   "execution_count": 1,
   "id": "3a362d4c",
   "metadata": {},
   "outputs": [],
   "source": [
    "import pandas as pd\n",
    "import numpy as np\n",
    "import matplotlib.pyplot as plt"
   ]
  },
  {
   "cell_type": "markdown",
   "id": "4a290f38",
   "metadata": {},
   "source": [
    "# NPY after 1971"
   ]
  },
  {
   "cell_type": "code",
   "execution_count": 2,
   "id": "f12663c7",
   "metadata": {},
   "outputs": [],
   "source": [
    "cp = pd.read_csv(\"../data/COMPUSTAT.csv\")"
   ]
  },
  {
   "cell_type": "code",
   "execution_count": 3,
   "id": "8842c505",
   "metadata": {},
   "outputs": [],
   "source": [
    "cp = cp[(cp[\"dvc\"] >= 0) & (cp[\"prstkc\"] >= 0) & (cp[\"pstkrv\"] >= 0) & (cp[\"sstk\"] >= 0)].dropna()\n",
    "cp[\"np_new\"] = cp[\"dvc\"] + cp[\"prstkc\"] - cp[\"sstk\"]"
   ]
  },
  {
   "cell_type": "markdown",
   "id": "f47aaa1a",
   "metadata": {},
   "source": [
    "# CRSP: mkt cap, volatility, momentum"
   ]
  },
  {
   "cell_type": "code",
   "execution_count": 4,
   "id": "9fb2b5a4",
   "metadata": {},
   "outputs": [],
   "source": [
    "crsp = pd.read_csv(\"../data/CRSP/Monthly.csv\")\n",
    "crsp[\"PRC\"] = np.abs(crsp[\"PRC\"])\n",
    "crsp[\"RET\"] = pd.to_numeric(crsp[\"RET\"], errors='coerce')\n",
    "crsp[\"RET\"] = crsp[\"RET\"].clip(-1, 5)\n",
    "crsp[\"RETX\"] = pd.to_numeric(crsp[\"RETX\"], errors='coerce')\n",
    "crsp[\"RETX\"] = crsp[\"RETX\"].clip(-1, 5)"
   ]
  },
  {
   "cell_type": "code",
   "execution_count": 5,
   "id": "0a893ce1",
   "metadata": {},
   "outputs": [],
   "source": [
    "crsp[\"dividend_yield\"] = crsp[\"RET\"] - crsp[\"RETX\"]"
   ]
  },
  {
   "cell_type": "markdown",
   "id": "73a0721f",
   "metadata": {},
   "source": [
    "## Market cap"
   ]
  },
  {
   "cell_type": "code",
   "execution_count": 6,
   "id": "46622652",
   "metadata": {},
   "outputs": [],
   "source": [
    "crsp[\"cap\"] = crsp[\"PRC\"] * crsp[\"SHROUT\"]\n",
    "crsp[\"prev_cap\"] = crsp.groupby(\"PERMNO\")[\"cap\"].shift(1)\n",
    "\n",
    "year_end_cap = crsp[crsp[\"date\"] % 10000 // 100 == 12].copy()\n",
    "year_end_cap[\"fyear\"] = year_end_cap[\"date\"] // 10000\n",
    "year_end_cap.rename(columns={\"cap\": \"year_end_cap\"}, inplace=True)\n",
    "year_end_cap = year_end_cap[[\"PERMNO\", \"fyear\", \"year_end_cap\"]]"
   ]
  },
  {
   "cell_type": "markdown",
   "id": "da1be77e",
   "metadata": {},
   "source": [
    "## Net issuance"
   ]
  },
  {
   "cell_type": "code",
   "execution_count": 7,
   "id": "45f5b68b",
   "metadata": {},
   "outputs": [],
   "source": [
    "crsp[\"adj_shrout\"] = crsp[\"SHROUT\"] * crsp[\"CFACSHR\"]\n",
    "crsp[\"adj_prc\"] = crsp[\"PRC\"] / crsp[\"CFACPR\"]\n",
    "\n",
    "crsp[\"dshrout\"] = crsp.groupby(\"PERMNO\")[\"adj_shrout\"].diff()\n",
    "crsp[\"prev_adj_prc\"] = crsp.groupby(\"PERMNO\")[\"adj_prc\"].shift(1)\n",
    "crsp[\"prev_prc\"] = crsp.groupby(\"PERMNO\")[\"PRC\"].shift(1)\n",
    "\n",
    "crsp[\"ni_old\"] = crsp[\"dshrout\"] * (crsp[\"prev_prc\"] + crsp[\"PRC\"]) / 2 \n",
    "crsp[\"ni_old_adj\"] = crsp[\"dshrout\"] * (crsp[\"prev_adj_prc\"] + crsp[\"adj_prc\"]) / 2"
   ]
  },
  {
   "cell_type": "code",
   "execution_count": 8,
   "id": "db56f6c9",
   "metadata": {},
   "outputs": [],
   "source": [
    "crsp[\"fyear\"] = crsp[\"date\"] // 10000 "
   ]
  },
  {
   "cell_type": "code",
   "execution_count": 9,
   "id": "730729cc",
   "metadata": {},
   "outputs": [],
   "source": [
    "yearly_net_issuance = crsp.groupby([\"PERMNO\", \"fyear\"], as_index=False)[[\"ni_old\", \"ni_old_adj\", \"dividend_yield\"]].sum()"
   ]
  },
  {
   "cell_type": "code",
   "execution_count": 10,
   "id": "0b0483ce",
   "metadata": {},
   "outputs": [],
   "source": [
    "yearly_net_issuance = pd.merge(yearly_net_issuance, year_end_cap)"
   ]
  },
  {
   "cell_type": "code",
   "execution_count": 11,
   "id": "01b29f48",
   "metadata": {},
   "outputs": [],
   "source": [
    "cp = pd.merge(cp, yearly_net_issuance, left_on=[\"LPERMNO\", \"fyear\"], right_on=[\"PERMNO\", \"fyear\"], how=\"outer\")"
   ]
  },
  {
   "cell_type": "code",
   "execution_count": 12,
   "id": "7ab080d1",
   "metadata": {},
   "outputs": [],
   "source": [
    "cp[\"npy_old\"] = cp[\"dividend_yield\"] - cp[\"ni_old\"] / cp[\"year_end_cap\"]\n",
    "cp[\"npy_old_adj\"] = cp[\"dividend_yield\"] - cp[\"ni_old_adj\"] / cp[\"year_end_cap\"]\n",
    "cp[\"npy_new\"] = cp[\"np_new\"] / cp[\"year_end_cap\"]"
   ]
  },
  {
   "cell_type": "code",
   "execution_count": 13,
   "id": "b8e81afe",
   "metadata": {},
   "outputs": [],
   "source": [
    "cp[\"npy\"] = cp[\"npy_new\"].copy()\n",
    "cp.loc[pd.isna(cp[\"npy\"]), \"npy\"] = cp.loc[pd.isna(cp[\"npy\"]), \"npy_old\"]\n",
    "cp[\"npy_adj\"] = cp[\"npy_new\"].copy()\n",
    "cp.loc[pd.isna(cp[\"npy_adj\"]), \"npy_adj\"] = cp.loc[pd.isna(cp[\"npy_adj\"]), \"npy_old_adj\"]"
   ]
  },
  {
   "cell_type": "markdown",
   "id": "5ad5bd6b",
   "metadata": {},
   "source": [
    "## 36 month vol"
   ]
  },
  {
   "cell_type": "code",
   "execution_count": 14,
   "id": "7bab7b0e",
   "metadata": {},
   "outputs": [
    {
     "name": "stderr",
     "output_type": "stream",
     "text": [
      "/opt/anaconda3/lib/python3.9/site-packages/pandas/core/window/rolling.py:1623: FutureWarning: min_periods=None will default to the size of window consistent with other methods in a future version. Specify min_periods=0 instead.\n",
      "  warnings.warn(\n"
     ]
    }
   ],
   "source": [
    "ret_mat = crsp[[\"PERMNO\", \"date\", \"RET\"]].drop_duplicates() \\\n",
    "                                         .set_index([\"date\", \"PERMNO\"]) \\\n",
    "                                         .sort_index() \\\n",
    "                                         .unstack() \n",
    "\n",
    "vol = ret_mat.rolling(36).std().shift(1)\n",
    "ct = ret_mat.rolling(36).count().shift(1)"
   ]
  },
  {
   "cell_type": "markdown",
   "id": "fc81c3d3",
   "metadata": {},
   "source": [
    "## Momentum"
   ]
  },
  {
   "cell_type": "code",
   "execution_count": 15,
   "id": "1e3f68e2",
   "metadata": {},
   "outputs": [],
   "source": [
    "momentum = (np.exp(np.log(ret_mat+1).rolling(11).sum()) - 1).shift(2)"
   ]
  },
  {
   "cell_type": "markdown",
   "id": "589042a2",
   "metadata": {},
   "source": [
    "## Merge"
   ]
  },
  {
   "cell_type": "code",
   "execution_count": 16,
   "id": "172c2289",
   "metadata": {},
   "outputs": [],
   "source": [
    "vol = vol.stack()\n",
    "ct = ct.stack()\n",
    "momentum = momentum.stack()"
   ]
  },
  {
   "cell_type": "code",
   "execution_count": 17,
   "id": "42bb7f56",
   "metadata": {},
   "outputs": [],
   "source": [
    "vol = vol.reset_index().rename(columns={\"RET\": \"volatility\"})\n",
    "ct =  ct.reset_index().rename(columns={\"RET\": \"count\"})\n",
    "momentum = momentum.reset_index().rename(columns={\"RET\": \"momentum\"})"
   ]
  },
  {
   "cell_type": "code",
   "execution_count": 18,
   "id": "75fcfa30",
   "metadata": {},
   "outputs": [],
   "source": [
    "merged = pd.merge(vol, ct)\n",
    "merged = pd.merge(merged, momentum)"
   ]
  },
  {
   "cell_type": "markdown",
   "id": "ed6370a7",
   "metadata": {},
   "source": [
    "# Return: rebalancing in Jan, Apr, Jul, Oct."
   ]
  },
  {
   "cell_type": "code",
   "execution_count": 19,
   "id": "b20335bf",
   "metadata": {},
   "outputs": [],
   "source": [
    "qret = (np.exp(np.log(ret_mat+1).rolling(3).sum())-1).shift(-2)\n",
    "#qret = ret_mat.rolling(3).sum().shift(-2)\n",
    "qret = qret.stack().reset_index()"
   ]
  },
  {
   "cell_type": "code",
   "execution_count": 20,
   "id": "82f33c12",
   "metadata": {},
   "outputs": [],
   "source": [
    "merged = pd.merge(merged, qret)\n",
    "merged = pd.merge(merged, crsp[[\"date\", \"PERMNO\", \"prev_cap\"]])\n",
    "merged[\"year_month\"] = merged[\"date\"] // 100"
   ]
  },
  {
   "cell_type": "code",
   "execution_count": 21,
   "id": "c0ce95fa",
   "metadata": {},
   "outputs": [
    {
     "data": {
      "text/html": [
       "<div>\n",
       "<style scoped>\n",
       "    .dataframe tbody tr th:only-of-type {\n",
       "        vertical-align: middle;\n",
       "    }\n",
       "\n",
       "    .dataframe tbody tr th {\n",
       "        vertical-align: top;\n",
       "    }\n",
       "\n",
       "    .dataframe thead th {\n",
       "        text-align: right;\n",
       "    }\n",
       "</style>\n",
       "<table border=\"1\" class=\"dataframe\">\n",
       "  <thead>\n",
       "    <tr style=\"text-align: right;\">\n",
       "      <th></th>\n",
       "      <th>date</th>\n",
       "      <th>PERMNO</th>\n",
       "      <th>volatility</th>\n",
       "      <th>count</th>\n",
       "      <th>momentum</th>\n",
       "      <th>RET</th>\n",
       "      <th>prev_cap</th>\n",
       "      <th>year_month</th>\n",
       "    </tr>\n",
       "  </thead>\n",
       "  <tbody>\n",
       "    <tr>\n",
       "      <th>0</th>\n",
       "      <td>19290131</td>\n",
       "      <td>10022</td>\n",
       "      <td>0.080366</td>\n",
       "      <td>36.0</td>\n",
       "      <td>0.311483</td>\n",
       "      <td>-0.025735</td>\n",
       "      <td>1.414400e+04</td>\n",
       "      <td>192901</td>\n",
       "    </tr>\n",
       "    <tr>\n",
       "      <th>1</th>\n",
       "      <td>19290131</td>\n",
       "      <td>10030</td>\n",
       "      <td>0.076493</td>\n",
       "      <td>36.0</td>\n",
       "      <td>0.069718</td>\n",
       "      <td>0.164582</td>\n",
       "      <td>3.115200e+04</td>\n",
       "      <td>192901</td>\n",
       "    </tr>\n",
       "    <tr>\n",
       "      <th>2</th>\n",
       "      <td>19290131</td>\n",
       "      <td>10049</td>\n",
       "      <td>0.113707</td>\n",
       "      <td>36.0</td>\n",
       "      <td>-0.248020</td>\n",
       "      <td>-0.012195</td>\n",
       "      <td>4.050800e+04</td>\n",
       "      <td>192901</td>\n",
       "    </tr>\n",
       "    <tr>\n",
       "      <th>3</th>\n",
       "      <td>19290131</td>\n",
       "      <td>10057</td>\n",
       "      <td>0.197684</td>\n",
       "      <td>36.0</td>\n",
       "      <td>3.051279</td>\n",
       "      <td>0.057940</td>\n",
       "      <td>1.537500e+04</td>\n",
       "      <td>192901</td>\n",
       "    </tr>\n",
       "    <tr>\n",
       "      <th>4</th>\n",
       "      <td>19290131</td>\n",
       "      <td>10065</td>\n",
       "      <td>0.108887</td>\n",
       "      <td>36.0</td>\n",
       "      <td>1.139754</td>\n",
       "      <td>0.546754</td>\n",
       "      <td>4.620000e+04</td>\n",
       "      <td>192901</td>\n",
       "    </tr>\n",
       "    <tr>\n",
       "      <th>...</th>\n",
       "      <td>...</td>\n",
       "      <td>...</td>\n",
       "      <td>...</td>\n",
       "      <td>...</td>\n",
       "      <td>...</td>\n",
       "      <td>...</td>\n",
       "      <td>...</td>\n",
       "      <td>...</td>\n",
       "    </tr>\n",
       "    <tr>\n",
       "      <th>3378554</th>\n",
       "      <td>20220131</td>\n",
       "      <td>93426</td>\n",
       "      <td>0.096287</td>\n",
       "      <td>36.0</td>\n",
       "      <td>0.090535</td>\n",
       "      <td>-0.133891</td>\n",
       "      <td>4.678234e+05</td>\n",
       "      <td>202201</td>\n",
       "    </tr>\n",
       "    <tr>\n",
       "      <th>3378555</th>\n",
       "      <td>20220131</td>\n",
       "      <td>93427</td>\n",
       "      <td>0.099093</td>\n",
       "      <td>36.0</td>\n",
       "      <td>0.424927</td>\n",
       "      <td>-0.112602</td>\n",
       "      <td>4.385522e+06</td>\n",
       "      <td>202201</td>\n",
       "    </tr>\n",
       "    <tr>\n",
       "      <th>3378556</th>\n",
       "      <td>20220131</td>\n",
       "      <td>93429</td>\n",
       "      <td>0.069981</td>\n",
       "      <td>36.0</td>\n",
       "      <td>0.406317</td>\n",
       "      <td>-0.118955</td>\n",
       "      <td>1.390625e+07</td>\n",
       "      <td>202201</td>\n",
       "    </tr>\n",
       "    <tr>\n",
       "      <th>3378557</th>\n",
       "      <td>20220131</td>\n",
       "      <td>93434</td>\n",
       "      <td>0.179275</td>\n",
       "      <td>36.0</td>\n",
       "      <td>-0.003413</td>\n",
       "      <td>-0.219780</td>\n",
       "      <td>1.061697e+05</td>\n",
       "      <td>202201</td>\n",
       "    </tr>\n",
       "    <tr>\n",
       "      <th>3378558</th>\n",
       "      <td>20220131</td>\n",
       "      <td>93436</td>\n",
       "      <td>0.230825</td>\n",
       "      <td>36.0</td>\n",
       "      <td>0.622230</td>\n",
       "      <td>0.019702</td>\n",
       "      <td>1.092218e+09</td>\n",
       "      <td>202201</td>\n",
       "    </tr>\n",
       "  </tbody>\n",
       "</table>\n",
       "<p>3378559 rows × 8 columns</p>\n",
       "</div>"
      ],
      "text/plain": [
       "             date  PERMNO  volatility  count  momentum       RET  \\\n",
       "0        19290131   10022    0.080366   36.0  0.311483 -0.025735   \n",
       "1        19290131   10030    0.076493   36.0  0.069718  0.164582   \n",
       "2        19290131   10049    0.113707   36.0 -0.248020 -0.012195   \n",
       "3        19290131   10057    0.197684   36.0  3.051279  0.057940   \n",
       "4        19290131   10065    0.108887   36.0  1.139754  0.546754   \n",
       "...           ...     ...         ...    ...       ...       ...   \n",
       "3378554  20220131   93426    0.096287   36.0  0.090535 -0.133891   \n",
       "3378555  20220131   93427    0.099093   36.0  0.424927 -0.112602   \n",
       "3378556  20220131   93429    0.069981   36.0  0.406317 -0.118955   \n",
       "3378557  20220131   93434    0.179275   36.0 -0.003413 -0.219780   \n",
       "3378558  20220131   93436    0.230825   36.0  0.622230  0.019702   \n",
       "\n",
       "             prev_cap  year_month  \n",
       "0        1.414400e+04      192901  \n",
       "1        3.115200e+04      192901  \n",
       "2        4.050800e+04      192901  \n",
       "3        1.537500e+04      192901  \n",
       "4        4.620000e+04      192901  \n",
       "...               ...         ...  \n",
       "3378554  4.678234e+05      202201  \n",
       "3378555  4.385522e+06      202201  \n",
       "3378556  1.390625e+07      202201  \n",
       "3378557  1.061697e+05      202201  \n",
       "3378558  1.092218e+09      202201  \n",
       "\n",
       "[3378559 rows x 8 columns]"
      ]
     },
     "execution_count": 21,
     "metadata": {},
     "output_type": "execute_result"
    }
   ],
   "source": [
    "merged"
   ]
  },
  {
   "cell_type": "code",
   "execution_count": 22,
   "id": "272ca591",
   "metadata": {},
   "outputs": [],
   "source": [
    "quarterly_data = merged[(merged[\"year_month\"] % 100).isin([1, 4, 7, 10])]"
   ]
  },
  {
   "cell_type": "code",
   "execution_count": 23,
   "id": "5229c168",
   "metadata": {},
   "outputs": [],
   "source": [
    "quarterly_data = quarterly_data[quarterly_data[\"count\"] == 36]"
   ]
  },
  {
   "cell_type": "markdown",
   "id": "fdf4014a",
   "metadata": {},
   "source": [
    "## Merge NPY"
   ]
  },
  {
   "cell_type": "code",
   "execution_count": 24,
   "id": "7867444f",
   "metadata": {},
   "outputs": [],
   "source": [
    "quarterly_data = merged[(merged[\"year_month\"] % 100).isin([1, 4, 7, 10])]\n",
    "quarterly_data = quarterly_data[quarterly_data[\"count\"] == 36]\n",
    "quarterly_data[\"fyear\"] = quarterly_data[\"year_month\"] // 100 - 1\n",
    "quarterly_data.loc[quarterly_data[\"year_month\"]%100 <= 6, \"fyear\"] = quarterly_data.loc[quarterly_data[\"year_month\"]%100 <= 6, \"fyear\"] - 1"
   ]
  },
  {
   "cell_type": "code",
   "execution_count": 25,
   "id": "58ed4777",
   "metadata": {},
   "outputs": [
    {
     "data": {
      "text/html": [
       "<div>\n",
       "<style scoped>\n",
       "    .dataframe tbody tr th:only-of-type {\n",
       "        vertical-align: middle;\n",
       "    }\n",
       "\n",
       "    .dataframe tbody tr th {\n",
       "        vertical-align: top;\n",
       "    }\n",
       "\n",
       "    .dataframe thead th {\n",
       "        text-align: right;\n",
       "    }\n",
       "</style>\n",
       "<table border=\"1\" class=\"dataframe\">\n",
       "  <thead>\n",
       "    <tr style=\"text-align: right;\">\n",
       "      <th></th>\n",
       "      <th>date</th>\n",
       "      <th>PERMNO</th>\n",
       "      <th>volatility</th>\n",
       "      <th>count</th>\n",
       "      <th>momentum</th>\n",
       "      <th>RET</th>\n",
       "      <th>prev_cap</th>\n",
       "      <th>year_month</th>\n",
       "      <th>fyear</th>\n",
       "    </tr>\n",
       "  </thead>\n",
       "  <tbody>\n",
       "    <tr>\n",
       "      <th>0</th>\n",
       "      <td>19290131</td>\n",
       "      <td>10022</td>\n",
       "      <td>0.080366</td>\n",
       "      <td>36.0</td>\n",
       "      <td>0.311483</td>\n",
       "      <td>-0.025735</td>\n",
       "      <td>1.414400e+04</td>\n",
       "      <td>192901</td>\n",
       "      <td>1927</td>\n",
       "    </tr>\n",
       "    <tr>\n",
       "      <th>1</th>\n",
       "      <td>19290131</td>\n",
       "      <td>10030</td>\n",
       "      <td>0.076493</td>\n",
       "      <td>36.0</td>\n",
       "      <td>0.069718</td>\n",
       "      <td>0.164582</td>\n",
       "      <td>3.115200e+04</td>\n",
       "      <td>192901</td>\n",
       "      <td>1927</td>\n",
       "    </tr>\n",
       "    <tr>\n",
       "      <th>2</th>\n",
       "      <td>19290131</td>\n",
       "      <td>10049</td>\n",
       "      <td>0.113707</td>\n",
       "      <td>36.0</td>\n",
       "      <td>-0.248020</td>\n",
       "      <td>-0.012195</td>\n",
       "      <td>4.050800e+04</td>\n",
       "      <td>192901</td>\n",
       "      <td>1927</td>\n",
       "    </tr>\n",
       "    <tr>\n",
       "      <th>3</th>\n",
       "      <td>19290131</td>\n",
       "      <td>10057</td>\n",
       "      <td>0.197684</td>\n",
       "      <td>36.0</td>\n",
       "      <td>3.051279</td>\n",
       "      <td>0.057940</td>\n",
       "      <td>1.537500e+04</td>\n",
       "      <td>192901</td>\n",
       "      <td>1927</td>\n",
       "    </tr>\n",
       "    <tr>\n",
       "      <th>4</th>\n",
       "      <td>19290131</td>\n",
       "      <td>10065</td>\n",
       "      <td>0.108887</td>\n",
       "      <td>36.0</td>\n",
       "      <td>1.139754</td>\n",
       "      <td>0.546754</td>\n",
       "      <td>4.620000e+04</td>\n",
       "      <td>192901</td>\n",
       "      <td>1927</td>\n",
       "    </tr>\n",
       "    <tr>\n",
       "      <th>...</th>\n",
       "      <td>...</td>\n",
       "      <td>...</td>\n",
       "      <td>...</td>\n",
       "      <td>...</td>\n",
       "      <td>...</td>\n",
       "      <td>...</td>\n",
       "      <td>...</td>\n",
       "      <td>...</td>\n",
       "      <td>...</td>\n",
       "    </tr>\n",
       "    <tr>\n",
       "      <th>3378554</th>\n",
       "      <td>20220131</td>\n",
       "      <td>93426</td>\n",
       "      <td>0.096287</td>\n",
       "      <td>36.0</td>\n",
       "      <td>0.090535</td>\n",
       "      <td>-0.133891</td>\n",
       "      <td>4.678234e+05</td>\n",
       "      <td>202201</td>\n",
       "      <td>2020</td>\n",
       "    </tr>\n",
       "    <tr>\n",
       "      <th>3378555</th>\n",
       "      <td>20220131</td>\n",
       "      <td>93427</td>\n",
       "      <td>0.099093</td>\n",
       "      <td>36.0</td>\n",
       "      <td>0.424927</td>\n",
       "      <td>-0.112602</td>\n",
       "      <td>4.385522e+06</td>\n",
       "      <td>202201</td>\n",
       "      <td>2020</td>\n",
       "    </tr>\n",
       "    <tr>\n",
       "      <th>3378556</th>\n",
       "      <td>20220131</td>\n",
       "      <td>93429</td>\n",
       "      <td>0.069981</td>\n",
       "      <td>36.0</td>\n",
       "      <td>0.406317</td>\n",
       "      <td>-0.118955</td>\n",
       "      <td>1.390625e+07</td>\n",
       "      <td>202201</td>\n",
       "      <td>2020</td>\n",
       "    </tr>\n",
       "    <tr>\n",
       "      <th>3378557</th>\n",
       "      <td>20220131</td>\n",
       "      <td>93434</td>\n",
       "      <td>0.179275</td>\n",
       "      <td>36.0</td>\n",
       "      <td>-0.003413</td>\n",
       "      <td>-0.219780</td>\n",
       "      <td>1.061697e+05</td>\n",
       "      <td>202201</td>\n",
       "      <td>2020</td>\n",
       "    </tr>\n",
       "    <tr>\n",
       "      <th>3378558</th>\n",
       "      <td>20220131</td>\n",
       "      <td>93436</td>\n",
       "      <td>0.230825</td>\n",
       "      <td>36.0</td>\n",
       "      <td>0.622230</td>\n",
       "      <td>0.019702</td>\n",
       "      <td>1.092218e+09</td>\n",
       "      <td>202201</td>\n",
       "      <td>2020</td>\n",
       "    </tr>\n",
       "  </tbody>\n",
       "</table>\n",
       "<p>1127878 rows × 9 columns</p>\n",
       "</div>"
      ],
      "text/plain": [
       "             date  PERMNO  volatility  count  momentum       RET  \\\n",
       "0        19290131   10022    0.080366   36.0  0.311483 -0.025735   \n",
       "1        19290131   10030    0.076493   36.0  0.069718  0.164582   \n",
       "2        19290131   10049    0.113707   36.0 -0.248020 -0.012195   \n",
       "3        19290131   10057    0.197684   36.0  3.051279  0.057940   \n",
       "4        19290131   10065    0.108887   36.0  1.139754  0.546754   \n",
       "...           ...     ...         ...    ...       ...       ...   \n",
       "3378554  20220131   93426    0.096287   36.0  0.090535 -0.133891   \n",
       "3378555  20220131   93427    0.099093   36.0  0.424927 -0.112602   \n",
       "3378556  20220131   93429    0.069981   36.0  0.406317 -0.118955   \n",
       "3378557  20220131   93434    0.179275   36.0 -0.003413 -0.219780   \n",
       "3378558  20220131   93436    0.230825   36.0  0.622230  0.019702   \n",
       "\n",
       "             prev_cap  year_month  fyear  \n",
       "0        1.414400e+04      192901   1927  \n",
       "1        3.115200e+04      192901   1927  \n",
       "2        4.050800e+04      192901   1927  \n",
       "3        1.537500e+04      192901   1927  \n",
       "4        4.620000e+04      192901   1927  \n",
       "...               ...         ...    ...  \n",
       "3378554  4.678234e+05      202201   2020  \n",
       "3378555  4.385522e+06      202201   2020  \n",
       "3378556  1.390625e+07      202201   2020  \n",
       "3378557  1.061697e+05      202201   2020  \n",
       "3378558  1.092218e+09      202201   2020  \n",
       "\n",
       "[1127878 rows x 9 columns]"
      ]
     },
     "execution_count": 25,
     "metadata": {},
     "output_type": "execute_result"
    }
   ],
   "source": [
    "quarterly_data"
   ]
  },
  {
   "cell_type": "code",
   "execution_count": 26,
   "id": "754fc649",
   "metadata": {},
   "outputs": [],
   "source": [
    "quarterly_data = pd.merge(quarterly_data, cp[[\"PERMNO\", \"fyear\", \"npy\", \"npy_adj\"]], \n",
    "                 left_on=[\"fyear\", \"PERMNO\"], right_on=[\"fyear\", \"PERMNO\"])\n",
    "quarterly_data[\"date\"] = pd.to_datetime(quarterly_data[\"date\"].astype(str))"
   ]
  },
  {
   "cell_type": "markdown",
   "id": "bd340cc7",
   "metadata": {},
   "source": [
    "# Use npy data"
   ]
  },
  {
   "cell_type": "markdown",
   "id": "26102c58",
   "metadata": {},
   "source": [
    "## Choose stock with np"
   ]
  },
  {
   "cell_type": "code",
   "execution_count": 27,
   "id": "16e0663e",
   "metadata": {},
   "outputs": [],
   "source": [
    "def conservative(raw_df, var):\n",
    "    # print(raw_df[\"date\"].iloc[0])\n",
    "    df = raw_df.copy()\n",
    "    df[\"cap_rank\"] = (-df[\"prev_cap\"]).rank()\n",
    "    df = df[df[\"cap_rank\"] <= 1000]\n",
    "\n",
    "    df[\"vol_rank\"] = df[\"volatility\"].rank()\n",
    "    df = df[df[\"vol_rank\"] <= 500].copy()\n",
    "\n",
    "    df[\"npy_rank\"] = df[var].rank()\n",
    "    df[\"momentum_rank\"] = df[\"momentum\"].rank()\n",
    "\n",
    "    df[\"tot_rank\"] = df[\"npy_rank\"] + df[\"momentum_rank\"]\n",
    "    final = df[(-df[\"tot_rank\"]).rank() <= 100]\n",
    "    \n",
    "    return final[\"RET\"].mean()"
   ]
  },
  {
   "cell_type": "code",
   "execution_count": 28,
   "id": "9eaa44da",
   "metadata": {},
   "outputs": [],
   "source": [
    "conservative_ret = quarterly_data.groupby(\"date\").apply(conservative, var=\"npy\")"
   ]
  },
  {
   "cell_type": "code",
   "execution_count": 29,
   "id": "99fee717",
   "metadata": {},
   "outputs": [],
   "source": [
    "def speculative(raw_df, var):\n",
    "    # print(raw_df[\"date\"].iloc[0])\n",
    "    df = raw_df.copy()\n",
    "    df[\"cap_rank\"] = (-df[\"prev_cap\"]).rank()\n",
    "    df = df[df[\"cap_rank\"] <= 1000]\n",
    "\n",
    "    df[\"vol_rank\"] = (-df[\"volatility\"]).rank()\n",
    "    df = df[df[\"vol_rank\"] <= 500].copy()\n",
    "\n",
    "    df[\"npy_rank\"] = df[var].rank()\n",
    "    df[\"momentum_rank\"] = df[\"momentum\"].rank()\n",
    "\n",
    "    df[\"tot_rank\"] = df[\"npy_rank\"] + df[\"momentum_rank\"]\n",
    "    final = df[df[\"tot_rank\"].rank() <= 100]\n",
    "    #display(final)\n",
    "    return final[\"RET\"].mean()"
   ]
  },
  {
   "cell_type": "code",
   "execution_count": 30,
   "id": "cea37214",
   "metadata": {},
   "outputs": [],
   "source": [
    "speculative_ret = quarterly_data.groupby(\"date\").apply(speculative, var=\"npy_adj\")"
   ]
  },
  {
   "cell_type": "code",
   "execution_count": 31,
   "id": "747ef710",
   "metadata": {},
   "outputs": [
    {
     "data": {
      "text/plain": [
       "Timestamp('1929-01-31 00:00:00')"
      ]
     },
     "execution_count": 31,
     "metadata": {},
     "output_type": "execute_result"
    }
   ],
   "source": [
    "speculative_ret.index[0]"
   ]
  },
  {
   "cell_type": "code",
   "execution_count": 32,
   "id": "2008b724",
   "metadata": {},
   "outputs": [
    {
     "data": {
      "text/plain": [
       "<matplotlib.legend.Legend at 0x7fbfcc538df0>"
      ]
     },
     "execution_count": 32,
     "metadata": {},
     "output_type": "execute_result"
    },
    {
     "data": {
      "image/png": "[encoded data removed]",
      "text/plain": [
       "<Figure size 432x288 with 1 Axes>"
      ]
     },
     "metadata": {
      "needs_background": "light"
     },
     "output_type": "display_data"
    }
   ],
   "source": [
    "np.log((conservative_ret+1).cumprod()).plot()\n",
    "np.log((speculative_ret+1).cumprod()).plot()\n",
    "plt.legend([\"conservative\", \"speculative\"])"
   ]
  },
  {
   "cell_type": "code",
   "execution_count": 33,
   "id": "b19f26a0",
   "metadata": {},
   "outputs": [
    {
     "data": {
      "text/html": [
       "<div>\n",
       "<style scoped>\n",
       "    .dataframe tbody tr th:only-of-type {\n",
       "        vertical-align: middle;\n",
       "    }\n",
       "\n",
       "    .dataframe tbody tr th {\n",
       "        vertical-align: top;\n",
       "    }\n",
       "\n",
       "    .dataframe thead th {\n",
       "        text-align: right;\n",
       "    }\n",
       "</style>\n",
       "<table border=\"1\" class=\"dataframe\">\n",
       "  <thead>\n",
       "    <tr style=\"text-align: right;\">\n",
       "      <th></th>\n",
       "      <th>speculative</th>\n",
       "      <th>conservative</th>\n",
       "    </tr>\n",
       "    <tr>\n",
       "      <th>decade</th>\n",
       "      <th></th>\n",
       "      <th></th>\n",
       "    </tr>\n",
       "  </thead>\n",
       "  <tbody>\n",
       "    <tr>\n",
       "      <th>1921</th>\n",
       "      <td>-0.068573</td>\n",
       "      <td>-0.016575</td>\n",
       "    </tr>\n",
       "    <tr>\n",
       "      <th>1931</th>\n",
       "      <td>0.035615</td>\n",
       "      <td>0.036359</td>\n",
       "    </tr>\n",
       "    <tr>\n",
       "      <th>1941</th>\n",
       "      <td>0.136807</td>\n",
       "      <td>0.178885</td>\n",
       "    </tr>\n",
       "    <tr>\n",
       "      <th>1951</th>\n",
       "      <td>0.126121</td>\n",
       "      <td>0.225967</td>\n",
       "    </tr>\n",
       "    <tr>\n",
       "      <th>1961</th>\n",
       "      <td>0.036454</td>\n",
       "      <td>0.134633</td>\n",
       "    </tr>\n",
       "    <tr>\n",
       "      <th>1971</th>\n",
       "      <td>-0.022761</td>\n",
       "      <td>0.123363</td>\n",
       "    </tr>\n",
       "    <tr>\n",
       "      <th>1981</th>\n",
       "      <td>0.047004</td>\n",
       "      <td>0.217328</td>\n",
       "    </tr>\n",
       "    <tr>\n",
       "      <th>1991</th>\n",
       "      <td>0.085677</td>\n",
       "      <td>0.158156</td>\n",
       "    </tr>\n",
       "    <tr>\n",
       "      <th>2001</th>\n",
       "      <td>-0.019414</td>\n",
       "      <td>0.074063</td>\n",
       "    </tr>\n",
       "    <tr>\n",
       "      <th>2011</th>\n",
       "      <td>0.034935</td>\n",
       "      <td>0.088302</td>\n",
       "    </tr>\n",
       "  </tbody>\n",
       "</table>\n",
       "</div>"
      ],
      "text/plain": [
       "        speculative  conservative\n",
       "decade                           \n",
       "1921      -0.068573     -0.016575\n",
       "1931       0.035615      0.036359\n",
       "1941       0.136807      0.178885\n",
       "1951       0.126121      0.225967\n",
       "1961       0.036454      0.134633\n",
       "1971      -0.022761      0.123363\n",
       "1981       0.047004      0.217328\n",
       "1991       0.085677      0.158156\n",
       "2001      -0.019414      0.074063\n",
       "2011       0.034935      0.088302"
      ]
     },
     "execution_count": 33,
     "metadata": {},
     "output_type": "execute_result"
    }
   ],
   "source": [
    "compare = pd.concat([speculative_ret, conservative_ret], axis=1)\n",
    "compare = compare[compare.index <= \"2016-12-31\"]\n",
    "compare.columns = [\"speculative\", \"conservative\"]\n",
    "compare[\"decade\"] = (compare.index.year) // 10 * 10\n",
    "((compare+1).groupby(\"decade\").prod() ** (0.1)) - 1"
   ]
  },
  {
   "cell_type": "code",
   "execution_count": 34,
   "id": "dcb78d28",
   "metadata": {},
   "outputs": [],
   "source": [
    "#compare[compare.index <= \"1939-12-31\"]"
   ]
  },
  {
   "cell_type": "markdown",
   "id": "909bda55",
   "metadata": {},
   "source": [
    "## Market portfolio"
   ]
  },
  {
   "cell_type": "code",
   "execution_count": 35,
   "id": "9df77cab",
   "metadata": {},
   "outputs": [],
   "source": [
    "vwp = pd.read_csv(\"../data/CRSP/VWP.csv\", index_col=0)\n",
    "vwp.index = pd.to_datetime(vwp.index.astype(str))\n",
    "market_qret = (np.exp(np.log(vwp[\"vwretd\"]+1).rolling(3).sum())-1).shift(-2)"
   ]
  },
  {
   "cell_type": "code",
   "execution_count": 36,
   "id": "ff816627",
   "metadata": {},
   "outputs": [],
   "source": [
    "market_ret = market_qret.loc[conservative_ret.index]"
   ]
  },
  {
   "cell_type": "code",
   "execution_count": 37,
   "id": "ce34959e",
   "metadata": {},
   "outputs": [
    {
     "data": {
      "text/plain": [
       "Text(0.5, 1.0, 'Value of $100 dollar invested in 1929')"
      ]
     },
     "execution_count": 37,
     "metadata": {},
     "output_type": "execute_result"
    },
    {
     "data": {
      "image/png": "[encoded data removed]",
      "text/plain": [
       "<Figure size 720x432 with 1 Axes>"
      ]
     },
     "metadata": {
      "needs_background": "light"
     },
     "output_type": "display_data"
    }
   ],
   "source": [
    "plt.figure(figsize=(10, 6))\n",
    "np.log((conservative_ret+1).cumprod()).plot()\n",
    "np.log((market_ret+1).cumprod()).plot()\n",
    "np.log((speculative_ret+1).cumprod()).plot()\n",
    "plt.legend([\"conservative\", \"market\", \"speculative\"])\n",
    "plt.title(\"Value of $100 dollar invested in 1929\")"
   ]
  },
  {
   "cell_type": "code",
   "execution_count": 38,
   "id": "3acabd69",
   "metadata": {},
   "outputs": [],
   "source": [
    "compare_all = pd.concat([conservative_ret, market_ret, speculative_ret], axis=1)\n",
    "compare_all = compare_all[compare_all.index <= \"2016-12-31\"]\n",
    "compare_all.columns = [\"conservative\", \"market\", \"speculative\"]\n",
    "compare_all[\"decade\"] = (compare_all.index.year) // 10 * 10\n",
    "compare_result = ((compare_all+1).groupby(\"decade\").prod() ** (0.1)) - 1\n",
    "compare_result.iloc[-1] = compare_result.iloc[-1] ** (10 / 7)\n",
    "compare_result.index = (compare_result.index-1).astype(str)+'s'"
   ]
  },
  {
   "cell_type": "code",
   "execution_count": 39,
   "id": "5ef58d35",
   "metadata": {},
   "outputs": [
    {
     "data": {
      "text/plain": [
       "Text(0.5, 1.0, 'Never a lost decade')"
      ]
     },
     "execution_count": 39,
     "metadata": {},
     "output_type": "execute_result"
    },
    {
     "data": {
      "image/png": "[encoded data removed]",
      "text/plain": [
       "<Figure size 720x432 with 1 Axes>"
      ]
     },
     "metadata": {
      "needs_background": "light"
     },
     "output_type": "display_data"
    }
   ],
   "source": [
    "compare_result.iloc[1:].plot.bar(figsize=(10, 6))\n",
    "plt.title(\"Never a lost decade\")"
   ]
  },
  {
   "cell_type": "code",
   "execution_count": null,
   "id": "6692de8d",
   "metadata": {},
   "outputs": [],
   "source": []
  }
 ],
 "metadata": {
  "kernelspec": {
   "display_name": "Python 3 (ipykernel)",
   "language": "python",
   "name": "python3"
  },
  "language_info": {
   "codemirror_mode": {
    "name": "ipython",
    "version": 3
   },
   "file_extension": ".py",
   "mimetype": "text/x-python",
   "name": "python",
   "nbconvert_exporter": "python",
   "pygments_lexer": "ipython3",
   "version": "3.9.7"
  },
  "toc": {
   "base_numbering": 1,
   "nav_menu": {},
   "number_sections": true,
   "sideBar": true,
   "skip_h1_title": false,
   "title_cell": "Table of Contents",
   "title_sidebar": "Contents",
   "toc_cell": false,
   "toc_position": {
    "height": "calc(100% - 180px)",
    "left": "10px",
    "top": "150px",
    "width": "245.625px"
   },
   "toc_section_display": true,
   "toc_window_display": true
  }
 },
 "nbformat": 4,
 "nbformat_minor": 5
}
