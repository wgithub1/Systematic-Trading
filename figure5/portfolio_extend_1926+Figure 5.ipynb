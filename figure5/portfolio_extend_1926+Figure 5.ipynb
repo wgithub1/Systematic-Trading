{
 "cells": [
  {
   "cell_type": "code",
   "execution_count": 1,
   "id": "3a362d4c",
   "metadata": {},
   "outputs": [],
   "source": [
    "import pandas as pd\n",
    "import numpy as np\n",
    "import matplotlib.pyplot as plt"
   ]
  },
  {
   "cell_type": "markdown",
   "id": "4a290f38",
   "metadata": {},
   "source": [
    "# NPY after 1971"
   ]
  },
  {
   "cell_type": "code",
   "execution_count": 2,
   "id": "f12663c7",
   "metadata": {},
   "outputs": [],
   "source": [
    "cp = pd.read_csv(\"data/COMPUSTAT.csv\")"
   ]
  },
  {
   "cell_type": "code",
   "execution_count": 3,
   "id": "8842c505",
   "metadata": {},
   "outputs": [],
   "source": [
    "cp = cp[(cp[\"dvc\"] >= 0) & (cp[\"prstkc\"] >= 0) & (cp[\"pstkrv\"] >= 0) & (cp[\"sstk\"] >= 0)].dropna()\n",
    "cp[\"np_new\"] = cp[\"dvc\"] + cp[\"prstkc\"] - cp[\"sstk\"]"
   ]
  },
  {
   "cell_type": "markdown",
   "id": "f47aaa1a",
   "metadata": {},
   "source": [
    "# CRSP: mkt cap, volatility, momentum"
   ]
  },
  {
   "cell_type": "code",
   "execution_count": 4,
   "id": "9fb2b5a4",
   "metadata": {},
   "outputs": [],
   "source": [
    "crsp = pd.read_csv(\"data/CRSP/Monthly.csv\")\n",
    "crsp[\"PRC\"] = np.abs(crsp[\"PRC\"])\n",
    "crsp[\"RET\"] = pd.to_numeric(crsp[\"RET\"], errors='coerce')\n",
    "crsp[\"RET\"] = crsp[\"RET\"].clip(-1, 5)\n",
    "crsp[\"RETX\"] = pd.to_numeric(crsp[\"RETX\"], errors='coerce')\n",
    "crsp[\"RETX\"] = crsp[\"RETX\"].clip(-1, 5)"
   ]
  },
  {
   "cell_type": "code",
   "execution_count": 5,
   "id": "0a893ce1",
   "metadata": {},
   "outputs": [],
   "source": [
    "crsp[\"dividend_yield\"] = crsp[\"RET\"] - crsp[\"RETX\"]"
   ]
  },
  {
   "cell_type": "markdown",
   "id": "73a0721f",
   "metadata": {},
   "source": [
    "## Market cap"
   ]
  },
  {
   "cell_type": "code",
   "execution_count": 6,
   "id": "46622652",
   "metadata": {},
   "outputs": [],
   "source": [
    "crsp[\"cap\"] = crsp[\"PRC\"] * crsp[\"SHROUT\"]\n",
    "crsp[\"prev_cap\"] = crsp.groupby(\"PERMNO\")[\"cap\"].shift(1)\n",
    "\n",
    "year_end_cap = crsp[crsp[\"date\"] % 10000 // 100 == 12].copy()\n",
    "year_end_cap[\"fyear\"] = year_end_cap[\"date\"] // 10000\n",
    "year_end_cap.rename(columns={\"cap\": \"year_end_cap\"}, inplace=True)\n",
    "year_end_cap = year_end_cap[[\"PERMNO\", \"fyear\", \"year_end_cap\"]]"
   ]
  },
  {
   "cell_type": "markdown",
   "id": "da1be77e",
   "metadata": {},
   "source": [
    "## Net issuance"
   ]
  },
  {
   "cell_type": "code",
   "execution_count": 7,
   "id": "45f5b68b",
   "metadata": {},
   "outputs": [],
   "source": [
    "crsp[\"adj_shrout\"] = crsp[\"SHROUT\"] * crsp[\"CFACSHR\"]\n",
    "crsp[\"adj_prc\"] = crsp[\"PRC\"] / crsp[\"CFACPR\"]\n",
    "\n",
    "crsp[\"dshrout\"] = crsp.groupby(\"PERMNO\")[\"adj_shrout\"].diff()\n",
    "crsp[\"prev_adj_prc\"] = crsp.groupby(\"PERMNO\")[\"adj_prc\"].shift(1)\n",
    "crsp[\"prev_prc\"] = crsp.groupby(\"PERMNO\")[\"PRC\"].shift(1)\n",
    "\n",
    "crsp[\"ni_old\"] = crsp[\"dshrout\"] * (crsp[\"prev_prc\"] + crsp[\"PRC\"]) / 2 \n",
    "crsp[\"ni_old_adj\"] = crsp[\"dshrout\"] * (crsp[\"prev_adj_prc\"] + crsp[\"adj_prc\"]) / 2"
   ]
  },
  {
   "cell_type": "code",
   "execution_count": 8,
   "id": "db56f6c9",
   "metadata": {},
   "outputs": [],
   "source": [
    "crsp[\"fyear\"] = crsp[\"date\"] // 10000 "
   ]
  },
  {
   "cell_type": "code",
   "execution_count": 9,
   "id": "730729cc",
   "metadata": {},
   "outputs": [],
   "source": [
    "yearly_net_issuance = crsp.groupby([\"PERMNO\", \"fyear\"], as_index=False)[[\"ni_old\", \"ni_old_adj\", \"dividend_yield\"]].sum()"
   ]
  },
  {
   "cell_type": "code",
   "execution_count": 10,
   "id": "0b0483ce",
   "metadata": {},
   "outputs": [],
   "source": [
    "yearly_net_issuance = pd.merge(yearly_net_issuance, year_end_cap)"
   ]
  },
  {
   "cell_type": "code",
   "execution_count": 11,
   "id": "01b29f48",
   "metadata": {},
   "outputs": [],
   "source": [
    "cp = pd.merge(cp, yearly_net_issuance, left_on=[\"LPERMNO\", \"fyear\"], right_on=[\"PERMNO\", \"fyear\"], how=\"outer\")"
   ]
  },
  {
   "cell_type": "code",
   "execution_count": 12,
   "id": "7ab080d1",
   "metadata": {},
   "outputs": [],
   "source": [
    "cp[\"npy_old\"] = cp[\"dividend_yield\"] - cp[\"ni_old\"] / cp[\"year_end_cap\"]\n",
    "cp[\"npy_old_adj\"] = cp[\"dividend_yield\"] - cp[\"ni_old_adj\"] / cp[\"year_end_cap\"]\n",
    "cp[\"npy_new\"] = cp[\"np_new\"] / cp[\"year_end_cap\"]"
   ]
  },
  {
   "cell_type": "code",
   "execution_count": 13,
   "id": "b8e81afe",
   "metadata": {},
   "outputs": [],
   "source": [
    "cp[\"npy\"] = cp[\"npy_new\"].copy()\n",
    "cp.loc[pd.isna(cp[\"npy\"]), \"npy\"] = cp.loc[pd.isna(cp[\"npy\"]), \"npy_old\"]\n",
    "cp[\"npy_adj\"] = cp[\"npy_new\"].copy()\n",
    "cp.loc[pd.isna(cp[\"npy_adj\"]), \"npy_adj\"] = cp.loc[pd.isna(cp[\"npy_adj\"]), \"npy_old_adj\"]"
   ]
  },
  {
   "cell_type": "markdown",
   "id": "5ad5bd6b",
   "metadata": {},
   "source": [
    "## 36 month vol"
   ]
  },
  {
   "cell_type": "code",
   "execution_count": 14,
   "id": "7bab7b0e",
   "metadata": {},
   "outputs": [
    {
     "name": "stderr",
     "output_type": "stream",
     "text": [
      "c:\\users\\user\\appdata\\local\\programs\\python\\python39\\lib\\site-packages\\pandas\\core\\window\\rolling.py:2010: FutureWarning: min_periods=None will default to the size of window consistent with other methods in a future version. Specify min_periods=0 instead.\n",
      "  warnings.warn(\n"
     ]
    }
   ],
   "source": [
    "ret_mat = crsp[[\"PERMNO\", \"date\", \"RET\"]].drop_duplicates() \\\n",
    "                                         .set_index([\"date\", \"PERMNO\"]) \\\n",
    "                                         .sort_index() \\\n",
    "                                         .unstack() \n",
    "\n",
    "vol = ret_mat.rolling(36).std().shift(1)\n",
    "ct = ret_mat.rolling(36).count().shift(1)"
   ]
  },
  {
   "cell_type": "markdown",
   "id": "fc81c3d3",
   "metadata": {},
   "source": [
    "## Momentum"
   ]
  },
  {
   "cell_type": "code",
   "execution_count": 15,
   "id": "1e3f68e2",
   "metadata": {},
   "outputs": [],
   "source": [
    "momentum = (np.exp(np.log(ret_mat+1).rolling(11).sum()) - 1).shift(2)"
   ]
  },
  {
   "cell_type": "markdown",
   "id": "589042a2",
   "metadata": {},
   "source": [
    "## Merge"
   ]
  },
  {
   "cell_type": "code",
   "execution_count": 16,
   "id": "172c2289",
   "metadata": {},
   "outputs": [],
   "source": [
    "vol = vol.stack()\n",
    "ct = ct.stack()\n",
    "momentum = momentum.stack()"
   ]
  },
  {
   "cell_type": "code",
   "execution_count": 17,
   "id": "42bb7f56",
   "metadata": {},
   "outputs": [],
   "source": [
    "vol = vol.reset_index().rename(columns={\"RET\": \"volatility\"})\n",
    "ct =  ct.reset_index().rename(columns={\"RET\": \"count\"})\n",
    "momentum = momentum.reset_index().rename(columns={\"RET\": \"momentum\"})"
   ]
  },
  {
   "cell_type": "code",
   "execution_count": 18,
   "id": "75fcfa30",
   "metadata": {},
   "outputs": [],
   "source": [
    "merged = pd.merge(vol, ct)\n",
    "merged = pd.merge(merged, momentum)"
   ]
  },
  {
   "cell_type": "markdown",
   "id": "ed6370a7",
   "metadata": {},
   "source": [
    "# Return: rebalancing in Jan, Apr, Jul, Oct."
   ]
  },
  {
   "cell_type": "code",
   "execution_count": 19,
   "id": "b20335bf",
   "metadata": {},
   "outputs": [],
   "source": [
    "qret = ret_mat.rolling(3).sum().shift(-2)\n",
    "qret = qret.stack().reset_index()"
   ]
  },
  {
   "cell_type": "code",
   "execution_count": 20,
   "id": "82f33c12",
   "metadata": {},
   "outputs": [],
   "source": [
    "merged = pd.merge(merged, qret)\n",
    "merged = pd.merge(merged, crsp[[\"date\", \"PERMNO\", \"prev_cap\"]])\n",
    "merged[\"year_month\"] = merged[\"date\"] // 100"
   ]
  },
  {
   "cell_type": "code",
   "execution_count": 21,
   "id": "272ca591",
   "metadata": {},
   "outputs": [],
   "source": [
    "quarterly_data = merged[(merged[\"year_month\"] % 100).isin([1, 4, 7, 10])]"
   ]
  },
  {
   "cell_type": "code",
   "execution_count": 22,
   "id": "5229c168",
   "metadata": {},
   "outputs": [],
   "source": [
    "quarterly_data = quarterly_data[quarterly_data[\"count\"] == 36]"
   ]
  },
  {
   "cell_type": "markdown",
   "id": "fdf4014a",
   "metadata": {},
   "source": [
    "## Merge NPY"
   ]
  },
  {
   "cell_type": "code",
   "execution_count": 23,
   "id": "7867444f",
   "metadata": {},
   "outputs": [],
   "source": [
    "quarterly_data = merged[(merged[\"year_month\"] % 100).isin([1, 4, 7, 10])]\n",
    "quarterly_data = quarterly_data[quarterly_data[\"count\"] == 36]\n",
    "quarterly_data[\"fyear\"] = quarterly_data[\"year_month\"] // 100 - 1\n",
    "quarterly_data.loc[quarterly_data[\"year_month\"]%100 <= 6, \"fyear\"] = quarterly_data.loc[quarterly_data[\"year_month\"]%100 <= 6, \"fyear\"] - 1"
   ]
  },
  {
   "cell_type": "code",
   "execution_count": 24,
   "id": "58ed4777",
   "metadata": {},
   "outputs": [
    {
     "data": {
      "text/html": [
       "<div>\n",
       "<style scoped>\n",
       "    .dataframe tbody tr th:only-of-type {\n",
       "        vertical-align: middle;\n",
       "    }\n",
       "\n",
       "    .dataframe tbody tr th {\n",
       "        vertical-align: top;\n",
       "    }\n",
       "\n",
       "    .dataframe thead th {\n",
       "        text-align: right;\n",
       "    }\n",
       "</style>\n",
       "<table border=\"1\" class=\"dataframe\">\n",
       "  <thead>\n",
       "    <tr style=\"text-align: right;\">\n",
       "      <th></th>\n",
       "      <th>date</th>\n",
       "      <th>PERMNO</th>\n",
       "      <th>volatility</th>\n",
       "      <th>count</th>\n",
       "      <th>momentum</th>\n",
       "      <th>RET</th>\n",
       "      <th>prev_cap</th>\n",
       "      <th>year_month</th>\n",
       "      <th>fyear</th>\n",
       "    </tr>\n",
       "  </thead>\n",
       "  <tbody>\n",
       "    <tr>\n",
       "      <th>0</th>\n",
       "      <td>19290131</td>\n",
       "      <td>10022</td>\n",
       "      <td>0.080366</td>\n",
       "      <td>36.0</td>\n",
       "      <td>0.311483</td>\n",
       "      <td>-0.019703</td>\n",
       "      <td>1.414400e+04</td>\n",
       "      <td>192901</td>\n",
       "      <td>1927</td>\n",
       "    </tr>\n",
       "    <tr>\n",
       "      <th>1</th>\n",
       "      <td>19290131</td>\n",
       "      <td>10030</td>\n",
       "      <td>0.076493</td>\n",
       "      <td>36.0</td>\n",
       "      <td>0.069718</td>\n",
       "      <td>0.161904</td>\n",
       "      <td>3.115200e+04</td>\n",
       "      <td>192901</td>\n",
       "      <td>1927</td>\n",
       "    </tr>\n",
       "    <tr>\n",
       "      <th>2</th>\n",
       "      <td>19290131</td>\n",
       "      <td>10049</td>\n",
       "      <td>0.113707</td>\n",
       "      <td>36.0</td>\n",
       "      <td>-0.248020</td>\n",
       "      <td>0.019589</td>\n",
       "      <td>4.050800e+04</td>\n",
       "      <td>192901</td>\n",
       "      <td>1927</td>\n",
       "    </tr>\n",
       "    <tr>\n",
       "      <th>3</th>\n",
       "      <td>19290131</td>\n",
       "      <td>10057</td>\n",
       "      <td>0.197684</td>\n",
       "      <td>36.0</td>\n",
       "      <td>3.051279</td>\n",
       "      <td>0.120026</td>\n",
       "      <td>1.537500e+04</td>\n",
       "      <td>192901</td>\n",
       "      <td>1927</td>\n",
       "    </tr>\n",
       "    <tr>\n",
       "      <th>4</th>\n",
       "      <td>19290131</td>\n",
       "      <td>10065</td>\n",
       "      <td>0.108887</td>\n",
       "      <td>36.0</td>\n",
       "      <td>1.139754</td>\n",
       "      <td>0.503266</td>\n",
       "      <td>4.620000e+04</td>\n",
       "      <td>192901</td>\n",
       "      <td>1927</td>\n",
       "    </tr>\n",
       "    <tr>\n",
       "      <th>...</th>\n",
       "      <td>...</td>\n",
       "      <td>...</td>\n",
       "      <td>...</td>\n",
       "      <td>...</td>\n",
       "      <td>...</td>\n",
       "      <td>...</td>\n",
       "      <td>...</td>\n",
       "      <td>...</td>\n",
       "      <td>...</td>\n",
       "    </tr>\n",
       "    <tr>\n",
       "      <th>3378554</th>\n",
       "      <td>20220131</td>\n",
       "      <td>93426</td>\n",
       "      <td>0.096287</td>\n",
       "      <td>36.0</td>\n",
       "      <td>0.090535</td>\n",
       "      <td>-0.132921</td>\n",
       "      <td>4.678234e+05</td>\n",
       "      <td>202201</td>\n",
       "      <td>2020</td>\n",
       "    </tr>\n",
       "    <tr>\n",
       "      <th>3378555</th>\n",
       "      <td>20220131</td>\n",
       "      <td>93427</td>\n",
       "      <td>0.099093</td>\n",
       "      <td>36.0</td>\n",
       "      <td>0.424927</td>\n",
       "      <td>-0.110033</td>\n",
       "      <td>4.385522e+06</td>\n",
       "      <td>202201</td>\n",
       "      <td>2020</td>\n",
       "    </tr>\n",
       "    <tr>\n",
       "      <th>3378556</th>\n",
       "      <td>20220131</td>\n",
       "      <td>93429</td>\n",
       "      <td>0.069981</td>\n",
       "      <td>36.0</td>\n",
       "      <td>0.406317</td>\n",
       "      <td>-0.121909</td>\n",
       "      <td>1.390625e+07</td>\n",
       "      <td>202201</td>\n",
       "      <td>2020</td>\n",
       "    </tr>\n",
       "    <tr>\n",
       "      <th>3378557</th>\n",
       "      <td>20220131</td>\n",
       "      <td>93434</td>\n",
       "      <td>0.179275</td>\n",
       "      <td>36.0</td>\n",
       "      <td>-0.003413</td>\n",
       "      <td>-0.232717</td>\n",
       "      <td>1.061697e+05</td>\n",
       "      <td>202201</td>\n",
       "      <td>2020</td>\n",
       "    </tr>\n",
       "    <tr>\n",
       "      <th>3378558</th>\n",
       "      <td>20220131</td>\n",
       "      <td>93436</td>\n",
       "      <td>0.230825</td>\n",
       "      <td>36.0</td>\n",
       "      <td>0.622230</td>\n",
       "      <td>0.053632</td>\n",
       "      <td>1.092218e+09</td>\n",
       "      <td>202201</td>\n",
       "      <td>2020</td>\n",
       "    </tr>\n",
       "  </tbody>\n",
       "</table>\n",
       "<p>1127878 rows × 9 columns</p>\n",
       "</div>"
      ],
      "text/plain": [
       "             date  PERMNO  volatility  count  momentum       RET  \\\n",
       "0        19290131   10022    0.080366   36.0  0.311483 -0.019703   \n",
       "1        19290131   10030    0.076493   36.0  0.069718  0.161904   \n",
       "2        19290131   10049    0.113707   36.0 -0.248020  0.019589   \n",
       "3        19290131   10057    0.197684   36.0  3.051279  0.120026   \n",
       "4        19290131   10065    0.108887   36.0  1.139754  0.503266   \n",
       "...           ...     ...         ...    ...       ...       ...   \n",
       "3378554  20220131   93426    0.096287   36.0  0.090535 -0.132921   \n",
       "3378555  20220131   93427    0.099093   36.0  0.424927 -0.110033   \n",
       "3378556  20220131   93429    0.069981   36.0  0.406317 -0.121909   \n",
       "3378557  20220131   93434    0.179275   36.0 -0.003413 -0.232717   \n",
       "3378558  20220131   93436    0.230825   36.0  0.622230  0.053632   \n",
       "\n",
       "             prev_cap  year_month  fyear  \n",
       "0        1.414400e+04      192901   1927  \n",
       "1        3.115200e+04      192901   1927  \n",
       "2        4.050800e+04      192901   1927  \n",
       "3        1.537500e+04      192901   1927  \n",
       "4        4.620000e+04      192901   1927  \n",
       "...               ...         ...    ...  \n",
       "3378554  4.678234e+05      202201   2020  \n",
       "3378555  4.385522e+06      202201   2020  \n",
       "3378556  1.390625e+07      202201   2020  \n",
       "3378557  1.061697e+05      202201   2020  \n",
       "3378558  1.092218e+09      202201   2020  \n",
       "\n",
       "[1127878 rows x 9 columns]"
      ]
     },
     "execution_count": 24,
     "metadata": {},
     "output_type": "execute_result"
    }
   ],
   "source": [
    "quarterly_data"
   ]
  },
  {
   "cell_type": "code",
   "execution_count": 25,
   "id": "754fc649",
   "metadata": {},
   "outputs": [],
   "source": [
    "quarterly_data = pd.merge(quarterly_data, cp[[\"PERMNO\", \"fyear\", \"npy\", \"npy_adj\"]], \n",
    "                 left_on=[\"fyear\", \"PERMNO\"], right_on=[\"fyear\", \"PERMNO\"])\n",
    "quarterly_data[\"date\"] = pd.to_datetime(quarterly_data[\"date\"].astype(str))"
   ]
  },
  {
   "cell_type": "markdown",
   "id": "bd340cc7",
   "metadata": {},
   "source": [
    "# Use npy data"
   ]
  },
  {
   "cell_type": "markdown",
   "id": "26102c58",
   "metadata": {},
   "source": [
    "## Choose stock with np"
   ]
  },
  {
   "cell_type": "code",
   "execution_count": 26,
   "id": "16e0663e",
   "metadata": {},
   "outputs": [],
   "source": [
    "def conservative(raw_df, var):\n",
    "    # print(raw_df[\"date\"].iloc[0])\n",
    "    df = raw_df.copy()\n",
    "    df[\"cap_rank\"] = (-df[\"prev_cap\"]).rank()\n",
    "    df = df[df[\"cap_rank\"] <= 1000]\n",
    "\n",
    "    df[\"vol_rank\"] = df[\"volatility\"].rank()\n",
    "    df = df[df[\"vol_rank\"] <= 500].copy()\n",
    "\n",
    "    df[\"npy_rank\"] = df[var].rank()\n",
    "    df[\"momentum_rank\"] = df[\"momentum\"].rank()\n",
    "\n",
    "    df[\"tot_rank\"] = df[\"npy_rank\"] + df[\"momentum_rank\"]\n",
    "    final = df[(-df[\"tot_rank\"]).rank() <= 100]\n",
    "    \n",
    "    return final[\"RET\"].mean()"
   ]
  },
  {
   "cell_type": "code",
   "execution_count": 27,
   "id": "9eaa44da",
   "metadata": {},
   "outputs": [],
   "source": [
    "conservative_ret = quarterly_data.groupby(\"date\").apply(conservative, var=\"npy\")"
   ]
  },
  {
   "cell_type": "code",
   "execution_count": 28,
   "id": "99fee717",
   "metadata": {},
   "outputs": [],
   "source": [
    "def speculative(raw_df, var):\n",
    "    # print(raw_df[\"date\"].iloc[0])\n",
    "    df = raw_df.copy()\n",
    "    df[\"cap_rank\"] = (-df[\"prev_cap\"]).rank()\n",
    "    df = df[df[\"cap_rank\"] <= 1000]\n",
    "\n",
    "    df[\"vol_rank\"] = (-df[\"volatility\"]).rank()\n",
    "    df = df[df[\"vol_rank\"] <= 500].copy()\n",
    "\n",
    "    df[\"npy_rank\"] = df[var].rank()\n",
    "    df[\"momentum_rank\"] = df[\"momentum\"].rank()\n",
    "\n",
    "    df[\"tot_rank\"] = df[\"npy_rank\"] + df[\"momentum_rank\"]\n",
    "    final = df[df[\"tot_rank\"].rank() <= 100]\n",
    "    #display(final)\n",
    "    return final[\"RET\"].mean()"
   ]
  },
  {
   "cell_type": "code",
   "execution_count": 29,
   "id": "cea37214",
   "metadata": {},
   "outputs": [],
   "source": [
    "speculative_ret = quarterly_data.groupby(\"date\").apply(speculative, var=\"npy_adj\")"
   ]
  },
  {
   "cell_type": "code",
   "execution_count": 30,
   "id": "2008b724",
   "metadata": {},
   "outputs": [
    {
     "data": {
      "text/plain": [
       "<matplotlib.legend.Legend at 0x20d45f77c70>"
      ]
     },
     "execution_count": 30,
     "metadata": {},
     "output_type": "execute_result"
    },
    {
     "data": {
      "image/png": "[encoded data removed]",
      "text/plain": [
       "<Figure size 432x288 with 1 Axes>"
      ]
     },
     "metadata": {
      "needs_background": "light"
     },
     "output_type": "display_data"
    }
   ],
   "source": [
    "np.log((conservative_ret+1).cumprod()).plot()\n",
    "np.log((speculative_ret+1).cumprod()).plot()\n",
    "plt.legend([\"conservative\", \"speculative\"])"
   ]
  },
  {
   "cell_type": "code",
   "execution_count": 31,
   "id": "b19f26a0",
   "metadata": {},
   "outputs": [
    {
     "data": {
      "text/html": [
       "<div>\n",
       "<style scoped>\n",
       "    .dataframe tbody tr th:only-of-type {\n",
       "        vertical-align: middle;\n",
       "    }\n",
       "\n",
       "    .dataframe tbody tr th {\n",
       "        vertical-align: top;\n",
       "    }\n",
       "\n",
       "    .dataframe thead th {\n",
       "        text-align: right;\n",
       "    }\n",
       "</style>\n",
       "<table border=\"1\" class=\"dataframe\">\n",
       "  <thead>\n",
       "    <tr style=\"text-align: right;\">\n",
       "      <th></th>\n",
       "      <th>speculative</th>\n",
       "      <th>conservative</th>\n",
       "    </tr>\n",
       "    <tr>\n",
       "      <th>decade</th>\n",
       "      <th></th>\n",
       "      <th></th>\n",
       "    </tr>\n",
       "  </thead>\n",
       "  <tbody>\n",
       "    <tr>\n",
       "      <th>1921</th>\n",
       "      <td>-0.074400</td>\n",
       "      <td>-0.018011</td>\n",
       "    </tr>\n",
       "    <tr>\n",
       "      <th>1931</th>\n",
       "      <td>0.014123</td>\n",
       "      <td>0.024895</td>\n",
       "    </tr>\n",
       "    <tr>\n",
       "      <th>1941</th>\n",
       "      <td>0.140676</td>\n",
       "      <td>0.179482</td>\n",
       "    </tr>\n",
       "    <tr>\n",
       "      <th>1951</th>\n",
       "      <td>0.125681</td>\n",
       "      <td>0.223130</td>\n",
       "    </tr>\n",
       "    <tr>\n",
       "      <th>1961</th>\n",
       "      <td>0.034370</td>\n",
       "      <td>0.132448</td>\n",
       "    </tr>\n",
       "    <tr>\n",
       "      <th>1971</th>\n",
       "      <td>-0.050178</td>\n",
       "      <td>0.120778</td>\n",
       "    </tr>\n",
       "    <tr>\n",
       "      <th>1981</th>\n",
       "      <td>0.050988</td>\n",
       "      <td>0.216381</td>\n",
       "    </tr>\n",
       "    <tr>\n",
       "      <th>1991</th>\n",
       "      <td>0.081631</td>\n",
       "      <td>0.156499</td>\n",
       "    </tr>\n",
       "    <tr>\n",
       "      <th>2001</th>\n",
       "      <td>-0.048602</td>\n",
       "      <td>0.073146</td>\n",
       "    </tr>\n",
       "    <tr>\n",
       "      <th>2011</th>\n",
       "      <td>0.030551</td>\n",
       "      <td>0.087728</td>\n",
       "    </tr>\n",
       "  </tbody>\n",
       "</table>\n",
       "</div>"
      ],
      "text/plain": [
       "        speculative  conservative\n",
       "decade                           \n",
       "1921      -0.074400     -0.018011\n",
       "1931       0.014123      0.024895\n",
       "1941       0.140676      0.179482\n",
       "1951       0.125681      0.223130\n",
       "1961       0.034370      0.132448\n",
       "1971      -0.050178      0.120778\n",
       "1981       0.050988      0.216381\n",
       "1991       0.081631      0.156499\n",
       "2001      -0.048602      0.073146\n",
       "2011       0.030551      0.087728"
      ]
     },
     "execution_count": 31,
     "metadata": {},
     "output_type": "execute_result"
    }
   ],
   "source": [
    "compare = pd.concat([speculative_ret, conservative_ret], axis=1)\n",
    "compare = compare[compare.index <= \"2016-12-31\"]\n",
    "compare.columns = [\"speculative\", \"conservative\"]\n",
    "compare[\"decade\"] = (compare.index.year) // 10 * 10\n",
    "((compare+1).groupby(\"decade\").prod() ** (0.1)) - 1"
   ]
  },
  {
   "cell_type": "code",
   "execution_count": 32,
   "id": "dcb78d28",
   "metadata": {},
   "outputs": [
    {
     "data": {
      "text/html": [
       "<div>\n",
       "<style scoped>\n",
       "    .dataframe tbody tr th:only-of-type {\n",
       "        vertical-align: middle;\n",
       "    }\n",
       "\n",
       "    .dataframe tbody tr th {\n",
       "        vertical-align: top;\n",
       "    }\n",
       "\n",
       "    .dataframe thead th {\n",
       "        text-align: right;\n",
       "    }\n",
       "</style>\n",
       "<table border=\"1\" class=\"dataframe\">\n",
       "  <thead>\n",
       "    <tr style=\"text-align: right;\">\n",
       "      <th></th>\n",
       "      <th>speculative</th>\n",
       "      <th>conservative</th>\n",
       "      <th>decade</th>\n",
       "    </tr>\n",
       "    <tr>\n",
       "      <th>date</th>\n",
       "      <th></th>\n",
       "      <th></th>\n",
       "      <th></th>\n",
       "    </tr>\n",
       "  </thead>\n",
       "  <tbody>\n",
       "    <tr>\n",
       "      <th>1929-01-31</th>\n",
       "      <td>-0.036972</td>\n",
       "      <td>0.069580</td>\n",
       "      <td>1920</td>\n",
       "    </tr>\n",
       "    <tr>\n",
       "      <th>1929-04-30</th>\n",
       "      <td>-0.052537</td>\n",
       "      <td>0.026550</td>\n",
       "      <td>1920</td>\n",
       "    </tr>\n",
       "    <tr>\n",
       "      <th>1929-07-31</th>\n",
       "      <td>-0.105850</td>\n",
       "      <td>0.043663</td>\n",
       "      <td>1920</td>\n",
       "    </tr>\n",
       "    <tr>\n",
       "      <th>1929-10-31</th>\n",
       "      <td>-0.434256</td>\n",
       "      <td>-0.272368</td>\n",
       "      <td>1920</td>\n",
       "    </tr>\n",
       "    <tr>\n",
       "      <th>1930-01-31</th>\n",
       "      <td>0.407106</td>\n",
       "      <td>0.126980</td>\n",
       "      <td>1930</td>\n",
       "    </tr>\n",
       "    <tr>\n",
       "      <th>1930-04-30</th>\n",
       "      <td>-0.346917</td>\n",
       "      <td>-0.173312</td>\n",
       "      <td>1930</td>\n",
       "    </tr>\n",
       "    <tr>\n",
       "      <th>1930-07-31</th>\n",
       "      <td>-0.202861</td>\n",
       "      <td>-0.070609</td>\n",
       "      <td>1930</td>\n",
       "    </tr>\n",
       "    <tr>\n",
       "      <th>1930-10-31</th>\n",
       "      <td>-0.344394</td>\n",
       "      <td>-0.172474</td>\n",
       "      <td>1930</td>\n",
       "    </tr>\n",
       "    <tr>\n",
       "      <th>1931-01-31</th>\n",
       "      <td>0.310094</td>\n",
       "      <td>0.154424</td>\n",
       "      <td>1930</td>\n",
       "    </tr>\n",
       "    <tr>\n",
       "      <th>1931-04-30</th>\n",
       "      <td>-0.078304</td>\n",
       "      <td>-0.095021</td>\n",
       "      <td>1930</td>\n",
       "    </tr>\n",
       "    <tr>\n",
       "      <th>1931-07-31</th>\n",
       "      <td>-0.479069</td>\n",
       "      <td>-0.318037</td>\n",
       "      <td>1930</td>\n",
       "    </tr>\n",
       "    <tr>\n",
       "      <th>1931-10-31</th>\n",
       "      <td>-0.194766</td>\n",
       "      <td>-0.070442</td>\n",
       "      <td>1930</td>\n",
       "    </tr>\n",
       "    <tr>\n",
       "      <th>1932-01-30</th>\n",
       "      <td>0.040326</td>\n",
       "      <td>-0.008638</td>\n",
       "      <td>1930</td>\n",
       "    </tr>\n",
       "    <tr>\n",
       "      <th>1932-04-30</th>\n",
       "      <td>-0.357510</td>\n",
       "      <td>-0.290830</td>\n",
       "      <td>1930</td>\n",
       "    </tr>\n",
       "    <tr>\n",
       "      <th>1932-07-30</th>\n",
       "      <td>1.698914</td>\n",
       "      <td>0.535381</td>\n",
       "      <td>1930</td>\n",
       "    </tr>\n",
       "    <tr>\n",
       "      <th>1932-10-31</th>\n",
       "      <td>-0.367826</td>\n",
       "      <td>-0.157429</td>\n",
       "      <td>1930</td>\n",
       "    </tr>\n",
       "    <tr>\n",
       "      <th>1933-01-31</th>\n",
       "      <td>-0.021852</td>\n",
       "      <td>0.032364</td>\n",
       "      <td>1930</td>\n",
       "    </tr>\n",
       "    <tr>\n",
       "      <th>1933-04-29</th>\n",
       "      <td>1.804484</td>\n",
       "      <td>0.862585</td>\n",
       "      <td>1930</td>\n",
       "    </tr>\n",
       "    <tr>\n",
       "      <th>1933-07-31</th>\n",
       "      <td>-0.161398</td>\n",
       "      <td>-0.060152</td>\n",
       "      <td>1930</td>\n",
       "    </tr>\n",
       "    <tr>\n",
       "      <th>1933-10-31</th>\n",
       "      <td>-0.082348</td>\n",
       "      <td>0.050937</td>\n",
       "      <td>1930</td>\n",
       "    </tr>\n",
       "    <tr>\n",
       "      <th>1934-01-31</th>\n",
       "      <td>0.503636</td>\n",
       "      <td>0.204122</td>\n",
       "      <td>1930</td>\n",
       "    </tr>\n",
       "    <tr>\n",
       "      <th>1934-04-30</th>\n",
       "      <td>-0.158465</td>\n",
       "      <td>-0.096329</td>\n",
       "      <td>1930</td>\n",
       "    </tr>\n",
       "    <tr>\n",
       "      <th>1934-07-31</th>\n",
       "      <td>-0.163927</td>\n",
       "      <td>-0.039391</td>\n",
       "      <td>1930</td>\n",
       "    </tr>\n",
       "    <tr>\n",
       "      <th>1934-10-31</th>\n",
       "      <td>0.066892</td>\n",
       "      <td>0.139732</td>\n",
       "      <td>1930</td>\n",
       "    </tr>\n",
       "    <tr>\n",
       "      <th>1935-01-31</th>\n",
       "      <td>-0.271695</td>\n",
       "      <td>-0.040316</td>\n",
       "      <td>1930</td>\n",
       "    </tr>\n",
       "    <tr>\n",
       "      <th>1935-04-30</th>\n",
       "      <td>0.138231</td>\n",
       "      <td>0.132062</td>\n",
       "      <td>1930</td>\n",
       "    </tr>\n",
       "    <tr>\n",
       "      <th>1935-07-31</th>\n",
       "      <td>0.310419</td>\n",
       "      <td>0.110916</td>\n",
       "      <td>1930</td>\n",
       "    </tr>\n",
       "    <tr>\n",
       "      <th>1935-10-31</th>\n",
       "      <td>0.463001</td>\n",
       "      <td>0.142565</td>\n",
       "      <td>1930</td>\n",
       "    </tr>\n",
       "    <tr>\n",
       "      <th>1936-01-31</th>\n",
       "      <td>0.309106</td>\n",
       "      <td>0.130791</td>\n",
       "      <td>1930</td>\n",
       "    </tr>\n",
       "    <tr>\n",
       "      <th>1936-04-30</th>\n",
       "      <td>-0.135579</td>\n",
       "      <td>-0.065041</td>\n",
       "      <td>1930</td>\n",
       "    </tr>\n",
       "    <tr>\n",
       "      <th>1936-07-31</th>\n",
       "      <td>0.202662</td>\n",
       "      <td>0.145462</td>\n",
       "      <td>1930</td>\n",
       "    </tr>\n",
       "    <tr>\n",
       "      <th>1936-10-31</th>\n",
       "      <td>0.212739</td>\n",
       "      <td>0.111922</td>\n",
       "      <td>1930</td>\n",
       "    </tr>\n",
       "    <tr>\n",
       "      <th>1937-01-30</th>\n",
       "      <td>0.217370</td>\n",
       "      <td>0.038396</td>\n",
       "      <td>1930</td>\n",
       "    </tr>\n",
       "    <tr>\n",
       "      <th>1937-04-30</th>\n",
       "      <td>-0.289963</td>\n",
       "      <td>-0.140401</td>\n",
       "      <td>1930</td>\n",
       "    </tr>\n",
       "    <tr>\n",
       "      <th>1937-07-31</th>\n",
       "      <td>-0.161325</td>\n",
       "      <td>-0.143753</td>\n",
       "      <td>1930</td>\n",
       "    </tr>\n",
       "    <tr>\n",
       "      <th>1937-10-30</th>\n",
       "      <td>-0.378939</td>\n",
       "      <td>-0.282654</td>\n",
       "      <td>1930</td>\n",
       "    </tr>\n",
       "    <tr>\n",
       "      <th>1938-01-31</th>\n",
       "      <td>-0.213542</td>\n",
       "      <td>-0.141342</td>\n",
       "      <td>1930</td>\n",
       "    </tr>\n",
       "    <tr>\n",
       "      <th>1938-04-30</th>\n",
       "      <td>0.552402</td>\n",
       "      <td>0.292348</td>\n",
       "      <td>1930</td>\n",
       "    </tr>\n",
       "    <tr>\n",
       "      <th>1938-07-30</th>\n",
       "      <td>0.072435</td>\n",
       "      <td>0.035540</td>\n",
       "      <td>1930</td>\n",
       "    </tr>\n",
       "    <tr>\n",
       "      <th>1938-10-31</th>\n",
       "      <td>0.137228</td>\n",
       "      <td>0.104298</td>\n",
       "      <td>1930</td>\n",
       "    </tr>\n",
       "    <tr>\n",
       "      <th>1939-01-31</th>\n",
       "      <td>-0.261715</td>\n",
       "      <td>-0.168393</td>\n",
       "      <td>1930</td>\n",
       "    </tr>\n",
       "    <tr>\n",
       "      <th>1939-04-29</th>\n",
       "      <td>-0.054822</td>\n",
       "      <td>0.035008</td>\n",
       "      <td>1930</td>\n",
       "    </tr>\n",
       "    <tr>\n",
       "      <th>1939-07-31</th>\n",
       "      <td>0.927499</td>\n",
       "      <td>0.108596</td>\n",
       "      <td>1930</td>\n",
       "    </tr>\n",
       "    <tr>\n",
       "      <th>1939-10-31</th>\n",
       "      <td>-0.264071</td>\n",
       "      <td>0.062260</td>\n",
       "      <td>1930</td>\n",
       "    </tr>\n",
       "  </tbody>\n",
       "</table>\n",
       "</div>"
      ],
      "text/plain": [
       "            speculative  conservative  decade\n",
       "date                                         \n",
       "1929-01-31    -0.036972      0.069580    1920\n",
       "1929-04-30    -0.052537      0.026550    1920\n",
       "1929-07-31    -0.105850      0.043663    1920\n",
       "1929-10-31    -0.434256     -0.272368    1920\n",
       "1930-01-31     0.407106      0.126980    1930\n",
       "1930-04-30    -0.346917     -0.173312    1930\n",
       "1930-07-31    -0.202861     -0.070609    1930\n",
       "1930-10-31    -0.344394     -0.172474    1930\n",
       "1931-01-31     0.310094      0.154424    1930\n",
       "1931-04-30    -0.078304     -0.095021    1930\n",
       "1931-07-31    -0.479069     -0.318037    1930\n",
       "1931-10-31    -0.194766     -0.070442    1930\n",
       "1932-01-30     0.040326     -0.008638    1930\n",
       "1932-04-30    -0.357510     -0.290830    1930\n",
       "1932-07-30     1.698914      0.535381    1930\n",
       "1932-10-31    -0.367826     -0.157429    1930\n",
       "1933-01-31    -0.021852      0.032364    1930\n",
       "1933-04-29     1.804484      0.862585    1930\n",
       "1933-07-31    -0.161398     -0.060152    1930\n",
       "1933-10-31    -0.082348      0.050937    1930\n",
       "1934-01-31     0.503636      0.204122    1930\n",
       "1934-04-30    -0.158465     -0.096329    1930\n",
       "1934-07-31    -0.163927     -0.039391    1930\n",
       "1934-10-31     0.066892      0.139732    1930\n",
       "1935-01-31    -0.271695     -0.040316    1930\n",
       "1935-04-30     0.138231      0.132062    1930\n",
       "1935-07-31     0.310419      0.110916    1930\n",
       "1935-10-31     0.463001      0.142565    1930\n",
       "1936-01-31     0.309106      0.130791    1930\n",
       "1936-04-30    -0.135579     -0.065041    1930\n",
       "1936-07-31     0.202662      0.145462    1930\n",
       "1936-10-31     0.212739      0.111922    1930\n",
       "1937-01-30     0.217370      0.038396    1930\n",
       "1937-04-30    -0.289963     -0.140401    1930\n",
       "1937-07-31    -0.161325     -0.143753    1930\n",
       "1937-10-30    -0.378939     -0.282654    1930\n",
       "1938-01-31    -0.213542     -0.141342    1930\n",
       "1938-04-30     0.552402      0.292348    1930\n",
       "1938-07-30     0.072435      0.035540    1930\n",
       "1938-10-31     0.137228      0.104298    1930\n",
       "1939-01-31    -0.261715     -0.168393    1930\n",
       "1939-04-29    -0.054822      0.035008    1930\n",
       "1939-07-31     0.927499      0.108596    1930\n",
       "1939-10-31    -0.264071      0.062260    1930"
      ]
     },
     "execution_count": 32,
     "metadata": {},
     "output_type": "execute_result"
    }
   ],
   "source": [
    "compare[compare.index <= \"1939-12-31\"]"
   ]
  },
  {
   "cell_type": "code",
   "execution_count": null,
   "id": "0bffd4e8",
   "metadata": {},
   "outputs": [],
   "source": []
  },
  {
   "cell_type": "markdown",
   "id": "2643cb4a",
   "metadata": {},
   "source": [
    "### Analysis of conservative strategy"
   ]
  },
  {
   "cell_type": "code",
   "execution_count": 47,
   "id": "f9b8a4e1",
   "metadata": {},
   "outputs": [],
   "source": [
    "sharpe=compare.groupby('decade')['conservative'].apply(lambda x: x.mean()/x.std()*2)"
   ]
  },
  {
   "cell_type": "code",
   "execution_count": 53,
   "id": "d2ef7bae",
   "metadata": {},
   "outputs": [
    {
     "data": {
      "text/plain": [
       "Text(0.5, 1.0, 'Sharpe ratio')"
      ]
     },
     "execution_count": 53,
     "metadata": {},
     "output_type": "execute_result"
    },
    {
     "data": {
      "image/png": "[encoded data removed]",
      "text/plain": [
       "<Figure size 432x288 with 1 Axes>"
      ]
     },
     "metadata": {
      "needs_background": "light"
     },
     "output_type": "display_data"
    }
   ],
   "source": [
    "ax=sharpe.plot.bar()\n",
    "ax.set_title('Sharpe ratio')"
   ]
  },
  {
   "cell_type": "code",
   "execution_count": 59,
   "id": "fc299015",
   "metadata": {},
   "outputs": [
    {
     "name": "stdout",
     "output_type": "stream",
     "text": [
      "1921 to 2021 Sharpe: 0.7286827971149145\n"
     ]
    }
   ],
   "source": [
    "x=compare['conservative']\n",
    "print('1921 to 2021 Sharpe:',x.mean()/x.std()*2)"
   ]
  },
  {
   "cell_type": "code",
   "execution_count": 58,
   "id": "e6cc02d7",
   "metadata": {},
   "outputs": [
    {
     "data": {
      "text/plain": [
       "date\n",
       "1929-01-31    0.069580\n",
       "1929-04-30    0.026550\n",
       "1929-07-31    0.043663\n",
       "1929-10-31   -0.272368\n",
       "1930-01-31    0.126980\n",
       "                ...   \n",
       "2015-10-30    0.060565\n",
       "2016-01-29    0.028401\n",
       "2016-04-29    0.045146\n",
       "2016-07-29   -0.006629\n",
       "2016-10-31    0.008655\n",
       "Name: conservative, Length: 352, dtype: float64"
      ]
     },
     "execution_count": 58,
     "metadata": {},
     "output_type": "execute_result"
    }
   ],
   "source": [
    "x"
   ]
  },
  {
   "cell_type": "markdown",
   "id": "98dd526c",
   "metadata": {},
   "source": [
    "###  Plot different portfolio Sharpe ratios"
   ]
  },
  {
   "cell_type": "code",
   "execution_count": 186,
   "id": "caa40394",
   "metadata": {},
   "outputs": [],
   "source": [
    "compare['year']=compare.index\n",
    "compare['year']=compare['year'].apply(lambda x: str(x.year))"
   ]
  },
  {
   "cell_type": "code",
   "execution_count": 187,
   "id": "dcc5ec4a",
   "metadata": {},
   "outputs": [],
   "source": [
    "year_ret=compare.groupby('year')['conservative'].apply(lambda x: (1+x).prod()-1)"
   ]
  },
  {
   "cell_type": "code",
   "execution_count": 188,
   "id": "667123b8",
   "metadata": {},
   "outputs": [],
   "source": [
    "### SIZE/BM\n",
    "size_bm=pd.read_csv(\"6_Portfolios_2x3_CSV/size_bm_without_div.csv\",index_col=0)\n",
    "size_bm=size_bm[(size_bm.index<=2016)&(size_bm.index>=1929)]\n",
    "size_bm_sharpe=size_bm.apply(lambda x:x.mean()/x.std())\n",
    "index=['Formula','SG','SN','SV','BG','BN','BV']\n",
    "heights=[year_ret.mean()/year_ret.std()]+size_bm_sharpe.values.tolist()"
   ]
  },
  {
   "cell_type": "code",
   "execution_count": 189,
   "id": "fd47e4ce",
   "metadata": {},
   "outputs": [
    {
     "data": {
      "text/plain": [
       "Text(0, 0.5, 'Sharpe with annual return')"
      ]
     },
     "execution_count": 189,
     "metadata": {},
     "output_type": "execute_result"
    },
    {
     "data": {
      "image/png": "[encoded data removed]",
      "text/plain": [
       "<Figure size 800x400 with 1 Axes>"
      ]
     },
     "metadata": {
      "needs_background": "light"
     },
     "output_type": "display_data"
    }
   ],
   "source": [
    "from matplotlib.pyplot import figure\n",
    "\n",
    "figure(figsize=(8, 4), dpi=100)\n",
    "bar_list=plt.bar(index,heights,color=['grey'],width=0.5)\n",
    "bar_list[0].set_color('c')\n",
    "plt.title('Sharpe ratio 1926-2016 versus 6 size/BM')\n",
    "plt.ylabel('Sharpe with annual return')"
   ]
  },
  {
   "cell_type": "code",
   "execution_count": 190,
   "id": "e0823c9f",
   "metadata": {},
   "outputs": [],
   "source": [
    "### SIZE/Mom\n",
    "size_mom=pd.read_excel(\"6_Portfolios_ME_Prior_12_2_CSV/Size_Mom.xlsx\",index_col=0)\n",
    "size_mom=size_mom[(size_mom.index<=2016)&(size_mom.index>=1929)]\n",
    "size_mom_sharpe=size_mom.apply(lambda x:x.mean()/x.std())\n",
    "index=['Formula','SL','SM','SH','BL','BM','BH']\n",
    "heights=[year_ret.mean()/year_ret.std()]+size_mom_sharpe.values.tolist()"
   ]
  },
  {
   "cell_type": "code",
   "execution_count": 191,
   "id": "92611e44",
   "metadata": {},
   "outputs": [
    {
     "data": {
      "text/plain": [
       "Text(0, 0.5, 'Sharpe with annual return')"
      ]
     },
     "execution_count": 191,
     "metadata": {},
     "output_type": "execute_result"
    },
    {
     "data": {
      "image/png": "[encoded data removed]",
      "text/plain": [
       "<Figure size 800x400 with 1 Axes>"
      ]
     },
     "metadata": {
      "needs_background": "light"
     },
     "output_type": "display_data"
    }
   ],
   "source": [
    "figure(figsize=(8, 4), dpi=100)\n",
    "bar_list=plt.bar(index,heights,color=['grey'],width=0.5)\n",
    "bar_list[0].set_color('c')\n",
    "plt.title('Sharpe ratio 1926-2016 versus 6 size/MoM')\n",
    "plt.ylabel('Sharpe with annual return')"
   ]
  },
  {
   "cell_type": "code",
   "execution_count": 192,
   "id": "933aaaac",
   "metadata": {},
   "outputs": [
    {
     "data": {
      "text/plain": [
       "year\n",
       "1929   -0.166192\n",
       "1930   -0.283464\n",
       "1931   -0.337721\n",
       "1932   -0.090495\n",
       "1933    0.899255\n",
       "          ...   \n",
       "2012    0.168854\n",
       "2013    0.314676\n",
       "2014    0.143565\n",
       "2015    0.021567\n",
       "2016    0.076945\n",
       "Name: conservative, Length: 88, dtype: float64"
      ]
     },
     "execution_count": 192,
     "metadata": {},
     "output_type": "execute_result"
    }
   ],
   "source": [
    "year_ret"
   ]
  },
  {
   "cell_type": "code",
   "execution_count": 193,
   "id": "37d528fb",
   "metadata": {},
   "outputs": [],
   "source": [
    "### Size, BM, Profitability\n",
    "year_ret_63=year_ret[(year_ret.index>='1963')]\n",
    "size_bm_profit=pd.read_excel(\"32_Portfolios_ME_BEME_OP_2x4x4_Wout_Div_CSV/SizeBMOP_without_Div.xlsx\",index_col=0)\n",
    "size_bm_profit=size_bm_profit[(size_bm_profit.index<=2016)&(size_bm_profit.index>=1963)]\n",
    "size_bm_profit_sharpe=size_bm_profit.apply(lambda x:x.mean()/x.std())\n",
    "index=['Formula']+size_bm_profit_sharpe.index.to_list()\n",
    "heights=[year_ret_63.mean()/year_ret_63.std()]+size_bm_profit_sharpe.values.tolist()"
   ]
  },
  {
   "cell_type": "code",
   "execution_count": 194,
   "id": "a0643a23",
   "metadata": {},
   "outputs": [
    {
     "data": {
      "text/plain": [
       "([0,\n",
       "  1,\n",
       "  2,\n",
       "  3,\n",
       "  4,\n",
       "  5,\n",
       "  6,\n",
       "  7,\n",
       "  8,\n",
       "  9,\n",
       "  10,\n",
       "  11,\n",
       "  12,\n",
       "  13,\n",
       "  14,\n",
       "  15,\n",
       "  16,\n",
       "  17,\n",
       "  18,\n",
       "  19,\n",
       "  20,\n",
       "  21,\n",
       "  22,\n",
       "  23,\n",
       "  24,\n",
       "  25,\n",
       "  26,\n",
       "  27,\n",
       "  28,\n",
       "  29,\n",
       "  30,\n",
       "  31,\n",
       "  32],\n",
       " [Text(0, 0, ''),\n",
       "  Text(0, 0, ''),\n",
       "  Text(0, 0, ''),\n",
       "  Text(0, 0, ''),\n",
       "  Text(0, 0, ''),\n",
       "  Text(0, 0, ''),\n",
       "  Text(0, 0, ''),\n",
       "  Text(0, 0, ''),\n",
       "  Text(0, 0, ''),\n",
       "  Text(0, 0, ''),\n",
       "  Text(0, 0, ''),\n",
       "  Text(0, 0, ''),\n",
       "  Text(0, 0, ''),\n",
       "  Text(0, 0, ''),\n",
       "  Text(0, 0, ''),\n",
       "  Text(0, 0, ''),\n",
       "  Text(0, 0, ''),\n",
       "  Text(0, 0, ''),\n",
       "  Text(0, 0, ''),\n",
       "  Text(0, 0, ''),\n",
       "  Text(0, 0, ''),\n",
       "  Text(0, 0, ''),\n",
       "  Text(0, 0, ''),\n",
       "  Text(0, 0, ''),\n",
       "  Text(0, 0, ''),\n",
       "  Text(0, 0, ''),\n",
       "  Text(0, 0, ''),\n",
       "  Text(0, 0, ''),\n",
       "  Text(0, 0, ''),\n",
       "  Text(0, 0, ''),\n",
       "  Text(0, 0, ''),\n",
       "  Text(0, 0, ''),\n",
       "  Text(0, 0, '')])"
      ]
     },
     "execution_count": 194,
     "metadata": {},
     "output_type": "execute_result"
    },
    {
     "data": {
      "image/png": "[encoded data removed]",
      "text/plain": [
       "<Figure size 1200x600 with 1 Axes>"
      ]
     },
     "metadata": {
      "needs_background": "light"
     },
     "output_type": "display_data"
    }
   ],
   "source": [
    "figure(figsize=(8, 4), dpi=150)\n",
    "bar_list=plt.bar(index,heights,color=['grey'],width=0.5)\n",
    "bar_list[0].set_color('c')\n",
    "plt.title('Sharpe ratio 1963-2016 versus 6 size/BM')\n",
    "plt.ylabel('Sharpe with annual return')\n",
    "plt.xticks(rotation=90, ha='right')"
   ]
  },
  {
   "cell_type": "code",
   "execution_count": 195,
   "id": "9a20f687",
   "metadata": {},
   "outputs": [],
   "source": [
    "### Size, BM, Investment\n",
    "year_ret_63=year_ret[(year_ret.index>='1963')]\n",
    "size_bm_inv=pd.read_excel(\"32_Portfolios_ME_BEME_INV_2x4x4_Wout_Div_CSV/Size_BM_INV_without_Div.xlsx\",index_col=0)\n",
    "size_bm_inv=size_bm_inv[(size_bm_inv.index<=2016)&(size_bm_inv.index>=1963)]\n",
    "size_bm_inv_sharpe=size_bm_inv.apply(lambda x:x.mean()/x.std())\n",
    "index=['Formula']+size_bm_inv_sharpe.index.to_list()\n",
    "heights=[year_ret_63.mean()/year_ret_63.std()]+size_bm_profit_sharpe.values.tolist()"
   ]
  },
  {
   "cell_type": "code",
   "execution_count": 196,
   "id": "43602d38",
   "metadata": {},
   "outputs": [
    {
     "data": {
      "text/plain": [
       "([0,\n",
       "  1,\n",
       "  2,\n",
       "  3,\n",
       "  4,\n",
       "  5,\n",
       "  6,\n",
       "  7,\n",
       "  8,\n",
       "  9,\n",
       "  10,\n",
       "  11,\n",
       "  12,\n",
       "  13,\n",
       "  14,\n",
       "  15,\n",
       "  16,\n",
       "  17,\n",
       "  18,\n",
       "  19,\n",
       "  20,\n",
       "  21,\n",
       "  22,\n",
       "  23,\n",
       "  24,\n",
       "  25,\n",
       "  26,\n",
       "  27,\n",
       "  28,\n",
       "  29,\n",
       "  30,\n",
       "  31,\n",
       "  32],\n",
       " [Text(0, 0, ''),\n",
       "  Text(0, 0, ''),\n",
       "  Text(0, 0, ''),\n",
       "  Text(0, 0, ''),\n",
       "  Text(0, 0, ''),\n",
       "  Text(0, 0, ''),\n",
       "  Text(0, 0, ''),\n",
       "  Text(0, 0, ''),\n",
       "  Text(0, 0, ''),\n",
       "  Text(0, 0, ''),\n",
       "  Text(0, 0, ''),\n",
       "  Text(0, 0, ''),\n",
       "  Text(0, 0, ''),\n",
       "  Text(0, 0, ''),\n",
       "  Text(0, 0, ''),\n",
       "  Text(0, 0, ''),\n",
       "  Text(0, 0, ''),\n",
       "  Text(0, 0, ''),\n",
       "  Text(0, 0, ''),\n",
       "  Text(0, 0, ''),\n",
       "  Text(0, 0, ''),\n",
       "  Text(0, 0, ''),\n",
       "  Text(0, 0, ''),\n",
       "  Text(0, 0, ''),\n",
       "  Text(0, 0, ''),\n",
       "  Text(0, 0, ''),\n",
       "  Text(0, 0, ''),\n",
       "  Text(0, 0, ''),\n",
       "  Text(0, 0, ''),\n",
       "  Text(0, 0, ''),\n",
       "  Text(0, 0, ''),\n",
       "  Text(0, 0, ''),\n",
       "  Text(0, 0, '')])"
      ]
     },
     "execution_count": 196,
     "metadata": {},
     "output_type": "execute_result"
    },
    {
     "data": {
      "image/png": "[encoded data removed]",
      "text/plain": [
       "<Figure size 1200x600 with 1 Axes>"
      ]
     },
     "metadata": {
      "needs_background": "light"
     },
     "output_type": "display_data"
    }
   ],
   "source": [
    "figure(figsize=(8, 4), dpi=150)\n",
    "bar_list=plt.bar(index,heights,color=['grey'],width=0.5)\n",
    "bar_list[0].set_color('c')\n",
    "plt.title('Sharpe ratio 1963-2016 versus 6 size/BM')\n",
    "plt.ylabel('Sharpe with annual return')\n",
    "plt.xticks(rotation=90, ha='right')"
   ]
  }
 ],
 "metadata": {
  "kernelspec": {
   "display_name": "Python 3 (ipykernel)",
   "language": "python",
   "name": "python3"
  },
  "language_info": {
   "codemirror_mode": {
    "name": "ipython",
    "version": 3
   },
   "file_extension": ".py",
   "mimetype": "text/x-python",
   "name": "python",
   "nbconvert_exporter": "python",
   "pygments_lexer": "ipython3",
   "version": "3.9.4"
  },
  "toc": {
   "base_numbering": 1,
   "nav_menu": {},
   "number_sections": true,
   "sideBar": true,
   "skip_h1_title": false,
   "title_cell": "Table of Contents",
   "title_sidebar": "Contents",
   "toc_cell": false,
   "toc_position": {
    "height": "calc(100% - 180px)",
    "left": "10px",
    "top": "150px",
    "width": "245.625px"
   },
   "toc_section_display": true,
   "toc_window_display": true
  }
 },
 "nbformat": 4,
 "nbformat_minor": 5
}
